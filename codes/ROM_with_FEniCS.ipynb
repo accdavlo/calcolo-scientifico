{
  "cells": [
    {
      "cell_type": "markdown",
      "metadata": {
        "id": "qRRJBbAKwm6w"
      },
      "source": [
        "[![Open In Colab](https://colab.research.google.com/assets/colab-badge.svg)](https://colab.research.google.com/github/accdavlo/calcolo-scientifico/blob/main/codes/ROM_with_FEniCS.ipynb)"
      ]
    },
    {
      "cell_type": "code",
      "execution_count": null,
      "metadata": {
        "id": "EoN4qqXx-qS5"
      },
      "outputs": [],
      "source": [
        "# Installing FEniCS (dolfin) on the Google Colab servers\n",
        "try:\n",
        "    import dolfin\n",
        "except ImportError:\n",
        "    !wget \"https://fem-on-colab.github.io/releases/fenics-install-release-real.sh\" -O \"/tmp/fenics-install.sh\" && bash \"/tmp/fenics-install.sh\"\n",
        "    import dolfin\n",
        "from dolfin import *"
      ]
    },
    {
      "cell_type": "code",
      "execution_count": null,
      "metadata": {
        "id": "BlS1cVxP-uEz"
      },
      "outputs": [],
      "source": [
        "# Setting some plotting styles\n",
        "%matplotlib inline\n",
        "import matplotlib.pyplot as plt\n",
        "plt.rcParams[\"figure.figsize\"] = (12, 9)"
      ]
    },
    {
      "cell_type": "code",
      "execution_count": null,
      "metadata": {
        "id": "Kg6a08Ky_Q4a"
      },
      "outputs": [],
      "source": [
        "# Importing some libraries\n",
        "from dolfin import * # This is the core of FEniCS and it contains all the FEM functions we will need\n",
        "from ufl_legacy.geometry import * # This helps in designing geometries\n",
        "from dolfin.cpp.mesh import *     # This handles meshes\n",
        "from mshr import *                # This generates meshes"
      ]
    },
    {
      "cell_type": "markdown",
      "metadata": {
        "id": "sziGo_S2v5b9"
      },
      "source": [
        "# ROM\n",
        "\n",
        "In the case of parametric problems where we are interested in the solution for many different parameters or in a very fast evaluation of the map parameter-to-solution, we might interested in using reduced order models.\n",
        "\n",
        "Let's start with an example taken from the [RBniCS library](https://www.rbnicsproject.org/), a reduced basis library based on FEniCS.\n",
        "\n",
        "## TUTORIAL 01 - Thermal block problem\n",
        "**_Keywords: certified reduced basis method, scalar problem_**\n",
        "\n",
        "### 1. Introduction\n",
        "In this Tutorial, we consider steady heat conduction in a two-dimensional domain $\\Omega=[0,1]^2$.\n",
        "\n",
        "<img src=\"https://github.com/RBniCS/RBniCS/raw/master/tutorials/01_thermal_block/data/thermal_block.png\" />\n",
        "\n",
        "We define two subdomains $\\Omega_1$ and $\\Omega_2$, such that\n",
        "1. $\\Omega_1$ is a disk centered at the origin of radius $r_0=0.25$, and\n",
        "2. $\\Omega_2=\\Omega/\\ \\overline{\\Omega_1}$.\n",
        "\n",
        "The conductivity $\\kappa$ is assumed to be constant on $\\Omega_1$ and $\\Omega_2$, i.e.\n",
        "$$\n",
        "\\kappa|_{\\Omega_1}=\\kappa_0 \\quad \\textrm{and} \\quad \\kappa|_{\\Omega_2}=1.\n",
        "$$\n",
        "\n",
        "For this problem, we consider $P=2$ parameters:\n",
        "1. the first one is related to the conductivity in $\\Omega_1$, i.e. $\\mu_0\\equiv k_0$ (_note that parameters numbering is zero-based_);\n",
        "2. the second parameter $\\mu_1$ takes into account the constant heat flux over $\\Gamma_{base}$.\n",
        "\n",
        "The parameter vector $\\boldsymbol{\\mu}$ is thus given by\n",
        "$$\n",
        "\\boldsymbol{\\mu} = (\\mu_0,\\mu_1)\n",
        "$$\n",
        "on the parameter domain\n",
        "$$\n",
        "\\mathbb{P}=[0.1,10]\\times[-1,1].\n",
        "$$\n",
        "\n",
        "In this problem we model the heat transfer process due to the heat flux over the bottom boundary $\\Gamma_{base}$ and the following conditions on the remaining boundaries:\n",
        "* the left and right boundaries $\\Gamma_{side}$ are insulated,\n",
        "* the top boundary $\\Gamma_{top}$ is kept at a reference temperature (say, zero).\n",
        "\n",
        "In order to obtain a faster evaluation (yet, provably accurate) of the output of interest we propose to use a certified reduced basis approximation for the problem."
      ]
    },
    {
      "cell_type": "markdown",
      "metadata": {
        "id": "AHMPVYqdzmZA"
      },
      "source": [
        "### 2. Parametrized formulation\n",
        "\n",
        "Let $u(\\boldsymbol{\\mu})$ be the temperature in the domain $\\Omega$.\n",
        "\n",
        "The strong formulation of the parametrized problem is given by:\n",
        "for a given parameter $\\boldsymbol{\\mu}\\in\\mathbb{P}$, find $u(\\boldsymbol{\\mu})$ such that\n",
        "\n",
        "$$\n",
        "\\begin{cases}\n",
        "\t- \\text{div} (\\kappa(\\mu_0)\\nabla u(\\boldsymbol{\\mu})) = 0 & \\text{in } \\Omega,\\\\\n",
        "\tu(\\boldsymbol{\\mu}) = 0 & \\text{on } \\Gamma_{top},\\\\\n",
        "\t\\kappa(\\mu_0)\\nabla u(\\boldsymbol{\\mu})\\cdot \\mathbf{n} = 0 & \\text{on } \\Gamma_{side},\\\\\n",
        "\t\\kappa(\\mu_0)\\nabla u(\\boldsymbol{\\mu})\\cdot \\mathbf{n} = \\mu_1 & \\text{on } \\Gamma_{base}.\n",
        "\\end{cases}\n",
        "$$\n",
        "<br>\n",
        "\n",
        "where\n",
        "* $\\mathbf{n}$ denotes the outer normal to the boundaries $\\Gamma_{side}$ and $\\Gamma_{base}$,\n",
        "* the conductivity $\\kappa(\\mu_0)$ is defined as follows:\n",
        "$$\n",
        "\\kappa(\\mu_0) =\n",
        "\\begin{cases}\n",
        "\t\\mu_0 & \\text{in } \\Omega_1,\\\\\n",
        "\t1 & \\text{in } \\Omega_2,\\\\\n",
        "\\end{cases}\n",
        "$$\n",
        "\n",
        "The corresponding weak formulation reads:\n",
        "for a given parameter $\\boldsymbol{\\mu}\\in\\mathbb{P}$, find $u(\\boldsymbol{\\mu})\\in\\mathbb{V}$ such that\n",
        "\n",
        "$$a\\left(u(\\boldsymbol{\\mu}),v;\\boldsymbol{\\mu}\\right)=f(v;\\boldsymbol{\\mu})\\quad \\forall v\\in\\mathbb{V}$$\n",
        "\n",
        "where\n",
        "\n",
        "* the function space $\\mathbb{V}$ is defined as\n",
        "$$\n",
        "\\mathbb{V} = \\{v\\in H^1(\\Omega) : v|_{\\Gamma_{top}}=0\\}\n",
        "$$\n",
        "* the parametrized bilinear form $a(\\cdot, \\cdot; \\boldsymbol{\\mu}): \\mathbb{V} \\times \\mathbb{V} \\to \\mathbb{R}$ is defined by\n",
        "$$a(u, v;\\boldsymbol{\\mu})=\\int_{\\Omega} \\kappa(\\mu_0)\\nabla u\\cdot \\nabla v \\ d\\boldsymbol{x},$$\n",
        "* the parametrized linear form $f(\\cdot; \\boldsymbol{\\mu}): \\mathbb{V} \\to \\mathbb{R}$ is defined by\n",
        "$$f(v; \\boldsymbol{\\mu})= \\mu_1\\int_{\\Gamma_{base}}v \\ ds.$$\n",
        "\n",
        "The (compliant) output of interest $s(\\boldsymbol{\\mu})$ given by\n",
        "$$s(\\boldsymbol{\\mu}) = \\mu_1\\int_{\\Gamma_{base}} u(\\boldsymbol{\\mu})$$\n",
        "is computed for each $\\boldsymbol{\\mu}$."
      ]
    },
    {
      "cell_type": "markdown",
      "metadata": {
        "id": "fskzvXAz0LuG"
      },
      "source": [
        "## 3. Affine decomposition\n",
        "\n",
        "For this problem the affine decomposition is straightforward:\n",
        "$$a(u,v;\\boldsymbol{\\mu})=  \\underbrace{1}_{\\Theta^{a}_0(\\boldsymbol{\\mu})}\\underbrace{\\int_{\\Omega_2}\\nabla u \\cdot \\nabla v \\ d\\boldsymbol{x}}_{a_0(u,v)} \\ + \\ \\underbrace{\\mu_0}_{\\Theta^{a}_1(\\boldsymbol{\\mu})}\\underbrace{\\int_{\\Omega_1}\\nabla u \\cdot \\nabla v \\ d\\boldsymbol{x}}_{a_1(u,v)}  ,$$\n",
        "$$f(v; \\boldsymbol{\\mu}) = \\underbrace{\\mu_1}_{\\Theta^{f}_0(\\boldsymbol{\\mu})} \\underbrace{\\int_{\\Gamma_{base}}v \\ ds}_{f_0(v)}.$$\n"
      ]
    },
    {
      "cell_type": "markdown",
      "metadata": {
        "id": "Scfo6MvT0Uy2"
      },
      "source": [
        "Let's set up the problem with affine dependency!"
      ]
    },
    {
      "cell_type": "code",
      "execution_count": null,
      "metadata": {
        "id": "IDtMS4dx_WMy"
      },
      "outputs": [],
      "source": [
        "# Define the domain as a rectangle, with a circle at its interior\n",
        "domain = Rectangle(Point(0, 0), Point(1, 1))\n",
        "\n",
        "center = Circle(Point(0.5, 0.5), 0.25)\n",
        "\n",
        "domain.set_subdomain(1, center)\n",
        "\n",
        "mesh = generate_mesh(domain, 60)\n",
        "plot(mesh)\n",
        "plt.show()\n",
        "\n",
        "# Define a measure (the object that we use to integrate) that is aware of the subdomains\n",
        "markers = MeshFunction('size_t', mesh, 2, mesh.domains())\n",
        "dx = Measure('dx', domain=mesh, subdomain_data=markers)\n",
        "ppp=plot(markers)\n",
        "plt.colorbar(ppp)\n",
        "plt.show()\n",
        "\n",
        "# Reference finite element\n",
        "V_element = FiniteElement('Lagrange', triangle, 1)\n",
        "\n",
        "# Finite element space on the mesh\n",
        "V = FunctionSpace(mesh, V_element)\n",
        "\n",
        "# Trial, Test and solution functions\n",
        "u = TrialFunction(V)\n",
        "u_sol = Function(V)\n",
        "v = TestFunction(V)\n",
        "\n",
        "\n",
        "# Top Dirichlet homogeneous boundary conditions (for non-homogeneous better using a lift function)\n",
        "top_BC = DirichletBC(V, 0.,\n",
        "                      \"on_boundary && \\\n",
        "                      (x[1]>1.0-DOLFIN_EPS)\")\n",
        "\n",
        "\n",
        "# Setting the markers for the boundaries I'm interested in for neumann BCs\n",
        "boundary_markers = MeshFunction(\"size_t\", mesh, mesh.topology().dim() - 1)\n",
        "\n",
        "# I set all markers to 0 in all boundaries\n",
        "boundary_markers.set_all(0)\n",
        "\n",
        "# Define the bottom boundary\n",
        "bottom_boundary = AutoSubDomain(lambda x : near(x[1], 0.0, DOLFIN_EPS))\n",
        "\n",
        "# Set its marker to 1\n",
        "bottom_boundary.mark(boundary_markers, 1)\n",
        "\n",
        "# Now I can redefine the border measure using these markers\n",
        "ds = Measure(\"ds\")(subdomain_data=boundary_markers)\n",
        "\n",
        "# Then I can integrate only over the bottom boundary the functions that I want and assemble the RHS\n",
        "g=Constant(1.)\n",
        "rhs =  g*v*ds(1)\n",
        "RHS=[assemble(rhs)]\n",
        "\n",
        "\n",
        "# Assemble the different LHS\n",
        "lhs=[]\n",
        "LHS=[]\n",
        "\n",
        "for i in range(2):\n",
        "  lhs.append(inner(grad(u),grad(v))*dx(i) )\n",
        "  LHS.append(assemble(lhs[i]))\n",
        "\n"
      ]
    },
    {
      "cell_type": "markdown",
      "metadata": {
        "id": "r2aJiXGN3-EJ"
      },
      "source": [
        "Solve for 1 parameter $\\mu_0=0.1$ and $\\mu_1=1.$"
      ]
    },
    {
      "cell_type": "code",
      "execution_count": null,
      "metadata": {
        "id": "AH1dzSj64RvY"
      },
      "outputs": [],
      "source": [
        "import numpy as np\n",
        "import time\n",
        "\n",
        "# Applying the Dirichlet BC (i.e. putting to diagonal 1 the rows that are related to those dofs and 0 the RHS entry related to those dofs)\n",
        "top_BC.apply(LHS[0])\n",
        "top_BC.apply(RHS[0])\n",
        "\n",
        "mu = np.array([0.1,1.])\n",
        "\n",
        "# Solve the problem for a given parameter\n",
        "tic = time.time()\n",
        "solve(LHS[0]+mu[0]*LHS[1], u_sol.vector(), mu[1]*RHS[0])\n",
        "toc = time.time()-tic\n",
        "\n",
        "print(\"Computed ROM for mu = (%1.3f,%1.3f) in %1.3e sec\"%(mu[0],mu[1],toc))\n",
        "\n",
        "# Plot the solution\n",
        "plt.figure()\n",
        "pp=plot(u_sol)\n",
        "plt.colorbar(pp)\n",
        "\n"
      ]
    },
    {
      "cell_type": "markdown",
      "metadata": {
        "id": "IG-cuDK-7t6Q"
      },
      "source": [
        "## 4. Generate a reduced space\n",
        "\n",
        "We use the proper orthogonal decomposition (POD) to extract a low dimensional linear subspace of $V_h$ that we call $V_{RB}$.\n",
        "\n",
        "The POD needs some *snapshots* that are solutions for different parameters $\\boldsymbol{\\mu}_i \\in \\mathcal{P}$ for $i=1,\\dots,N_{train}$ that we denote by $u(\\boldsymbol{\\mu}_i)$, we store them in a matrix $X_{train} \\in \\mathbb R^{N_{train}\\times N_h}$ and we apply the singular value decomposition (SVD) of this matrix (the economic version, `full_matrix=False`).\n",
        "\n",
        "This gives us that\n",
        "$$\n",
        "L S R = X_{train} ,\\qquad \\text{ with }L,S\\in \\mathbb{R}^{N_{train}\\times N_{train}}, R\\in \\mathbb{R}^{N_{train}\\times N_{h}}\n",
        "$$\n",
        "where $S$ is a diagonal matrix that contains the singular values of $X_{train}$ ordered from the largest to the smallest, while $L$ is an orthonormal matrix and the columns of $R$ are orthonormal vectors.\n",
        "\n",
        "Then, we can approximate $X_{train}$ retaining only the $N_{RB}$ most important modes, keeping only the first $N_{RB}$ singular values and related modes, i.e.,\n",
        "$$\n",
        "\\begin{align*}\n",
        "&\\tilde{L}:=L[:,:N_{RB}] \\in \\mathbb{R}^{N_{train}\\times N_{RB}},\\qquad\n",
        "\\tilde{S}:=S[:N_{RB},:N_{RB}] \\in \\mathbb{R}^{N_{RB}\\times N_{RB}},\\qquad\n",
        "\\tilde{R}:=R[:N_{RB},:] \\in \\mathbb{R}^{N_{RB}\\times N_h},\\\\\n",
        "&X_{train} \\approx \\tilde{L}\\tilde{S}\\tilde{V}.\n",
        "\\end{align*}\n",
        "$$\n",
        "If the decay of the singular values is fast (exponential) and $N_{RB}$ is sufficiently large, we are not making a large error!\n",
        "\n",
        "So, we can write for every $u(\\boldsymbol{\\mu}) \\approx \\sum_{i=1}^{N_{RB}} \\hat u_i(\\boldsymbol{\\mu}) \\psi_i$ where $\\psi_i$ are the column of $\\tilde{R}$.\n",
        "\n",
        "\n"
      ]
    },
    {
      "cell_type": "code",
      "execution_count": null,
      "metadata": {
        "id": "T2pd6ymNv5Li"
      },
      "outputs": [],
      "source": [
        "import numpy as np\n",
        "import time\n",
        "\n",
        "top_BC.apply(LHS[0])\n",
        "top_BC.apply(RHS[0])\n",
        "\n",
        "mu_min = np.array([0.1,-1.])\n",
        "mu_max = np.array([10.,1.])\n",
        "\n",
        "N_train = 100\n",
        "training_set = np.random.rand(N_train,2)*(mu_max-mu_min)+mu_min\n",
        "U = np.zeros((N_train, V.dim()))\n",
        "times = np.zeros(N_train)\n",
        "\n",
        "for i, mu in enumerate(training_set):\n",
        "  tic = time.time()\n",
        "  solve(LHS[0]+mu[0]*LHS[1], u_sol.vector(), mu[1]*RHS[0])\n",
        "  times[i] = time.time()-tic\n",
        "\n",
        "  print(\"Computed FOM for mu = (%1.3f,%1.3f) in %1.3e sec\"%(mu[0],mu[1],times[i]))\n",
        "  # plt.figure()\n",
        "  # pp=plot(u_sol)\n",
        "  # plt.colorbar(pp)\n",
        "\n",
        "  U[i,:] = u_sol.vector()[:]\n",
        "\n",
        "L_svd,S_svd,R_svd=np.linalg.svd(U, full_matrices=False)"
      ]
    },
    {
      "cell_type": "code",
      "execution_count": null,
      "metadata": {
        "id": "3TqZPDJR-0-H"
      },
      "outputs": [],
      "source": [
        "print(\"shape of L_svd\", np.shape(L_svd))\n",
        "print(\"shape of S_svd\", np.shape(S_svd))\n",
        "print(\"shape of R_svd\", np.shape(R_svd))\n",
        "\n",
        "# Is V orthonormal?\n",
        "print(\"Difference between V V^T -I\")\n",
        "print(np.linalg.norm(R_svd@R_svd.T-np.eye(N_train)))\n",
        "\n",
        "# Is L orthonormal\n",
        "print(\"Difference between L L^T -I\")\n",
        "print(np.linalg.norm(L_svd@L_svd.T-np.eye(N_train)))\n",
        "\n",
        "plt.semilogy(S_svd,'o')"
      ]
    },
    {
      "cell_type": "code",
      "execution_count": null,
      "metadata": {
        "id": "uhwGtiRHueOi"
      },
      "outputs": [],
      "source": [
        "n_RB = 2\n",
        "VRB = R_svd[:n_RB,:]"
      ]
    },
    {
      "cell_type": "markdown",
      "metadata": {
        "id": "nFYkqZ2WHCok"
      },
      "source": [
        "## Plotting some basis functions"
      ]
    },
    {
      "cell_type": "code",
      "execution_count": null,
      "metadata": {
        "id": "FET6xcc6HB3H"
      },
      "outputs": [],
      "source": [
        "uaux = Function(V)\n",
        "for i in range(np.minimum(5,n_RB)):\n",
        "  uaux.vector()[:]=VRB[i][:]\n",
        "  plt.figure()\n",
        "  ppp= plot(uaux)\n",
        "  plt.colorbar(ppp)\n",
        "  plt.title(\"Basis #%d\"%i)"
      ]
    },
    {
      "cell_type": "markdown",
      "metadata": {
        "id": "sRO6BjoyBXnz"
      },
      "source": [
        "## 5. Assemble the reduced system\n",
        "Now that we have our reduced space given by the span of the reduced basis $\\psi_i$ and we store these vectors in the matrix $V_{RB} \\in \\mathbb{R}^{N_{RB}\\times N_h}$.\n",
        "\n",
        "Now, we can do a Galerkin projection of the full problem of dimension $N_h$ on the reduced space $V_{RB}$, i.e., we can use $u_{RB} := \\sum_{i=1}^{N_{RB}} \\hat{u}_i \\psi_{i}$ and test with the RB functions, i.e., we want to solve the linear system\n",
        "$$\n",
        "a(\\psi_j,\\psi_i)\\hat{u}_i = F(\\psi_i),\\qquad \\forall i=1,\\dots,N_{RB},\n",
        "$$\n",
        "that, for the affine dependency of the parameters becomes\n",
        "$$\n",
        "\\sum_{k=1}^{K_a} \\Theta^a_{k}(\\boldsymbol{\\mu})a_k(\\psi_j,\\psi_i)\\hat{u}_i(\\boldsymbol{\\mu}) = \\sum_{k=1}^{K_F} \\Theta^F_k (\\boldsymbol{\\mu}) F_k(\\psi_i),\\qquad \\forall i=1,\\dots,N_{RB},\n",
        "$$\n",
        "and in matrix form, it becomes\n",
        "$$\n",
        "\\left( \\sum_{k=1}^{K_a} \\Theta^a_{k}(\\boldsymbol{\\mu})\\hat{A}_k \\right) \\hat{u}(\\boldsymbol{\\mu}) = \\sum_{k=1}^{K_F} \\Theta^F_k (\\boldsymbol{\\mu}) \\hat{F}_k,\\qquad \\text{with } \\hat{A}_k = V_{RB} A_k V_{RB}^T \\in \\mathbb R^{N_{RB}\\times N_{RB}} \\text { and } \\hat{F}_k  = V_{RB}F_k\\in \\mathbb R ^{N_{RB}}.\n",
        "$$\n"
      ]
    },
    {
      "cell_type": "code",
      "execution_count": null,
      "metadata": {
        "id": "d7aHGJbA8DUa"
      },
      "outputs": [],
      "source": [
        "# Computing the reduced matrices and vectors\n",
        "\n",
        "LHS_RB = []\n",
        "RHS_RB = []\n",
        "\n",
        "# I need two auxiliary functions to store basis functions and the results of Matrix vector multiplication\n",
        "# With the dolfin matrix type I can only do matrix vector multiplication, so I cannot do matrix x matrix\n",
        "uaux = Function(V)\n",
        "u_mult = Function(V)\n",
        "\n",
        "\n",
        "# Loop over the affine terms of the LHS\n",
        "for n in range(len(LHS)):\n",
        "  # Initialize the reduced matrix (full but small)\n",
        "  LHS_RB.append(np.zeros((n_RB,n_RB)))\n",
        "\n",
        "  # Loop over the trial functions (reduced basis functions)\n",
        "  for j in range(n_RB):\n",
        "    uaux.vector()[:] = VRB[j,:]\n",
        "\n",
        "    # Computing U_aux =A_n * psi_j\n",
        "    LHS[n].mult(uaux.vector(),u_mult.vector())\n",
        "\n",
        "    # Computing \\hat{A}_{ij} = (psi_i, U_aux)\n",
        "    for i in range(n_RB):\n",
        "      LHS_RB[n][i,j] = np.dot(VRB[i,:],u_mult.vector())\n",
        "\n",
        "\n",
        "\n"
      ]
    },
    {
      "cell_type": "code",
      "execution_count": null,
      "metadata": {
        "id": "dmZMp71HAEYO"
      },
      "outputs": [],
      "source": [
        "# Computing the reduced RHS\n",
        "for n in range(len(RHS)):\n",
        "  RHS_RB.append(np.zeros(n_RB))\n",
        "  for j in range(n_RB):\n",
        "    RHS_RB[n][j] = np.dot(VRB[j,:],RHS[n])\n"
      ]
    },
    {
      "cell_type": "markdown",
      "metadata": {
        "id": "LdF9XYiPKJU1"
      },
      "source": [
        "## 6. Solve for a new parameter\n",
        "Given a new test parameter I want to solve the reduced problem."
      ]
    },
    {
      "cell_type": "code",
      "execution_count": null,
      "metadata": {
        "id": "Wsk3UyKaIvd3"
      },
      "outputs": [],
      "source": [
        "# Create a class to solve Full order model (FOM) and reduced order model (ROM)\n",
        "class Poisson:\n",
        "  def __init__(self,V,VRB,LHS,RHS, LHS_RB, RHS_RB):\n",
        "    self.V = V\n",
        "    self.VRB = VRB\n",
        "    self.LHS = LHS\n",
        "    self.RHS = RHS\n",
        "    self.LHS_RB = LHS_RB\n",
        "    self.RHS_RB = RHS_RB\n",
        "    self.u_sol = Function(self.V)\n",
        "    self.u_RB = Function(self.V)\n",
        "    self.u_RB_coeff = np.zeros(self.VRB.shape[0])\n",
        "  def set_mu(self,mu):\n",
        "      self.mu = mu\n",
        "  def solve_FOM(self):\n",
        "    # Solve the problem for a given parameter\n",
        "    tic = time.time()\n",
        "    solve(self.LHS[0]+self.mu[0]*self.LHS[1], self.u_sol.vector(), self.mu[1]*self.RHS[0])\n",
        "    toc = time.time()-tic\n",
        "    self.computational_time_FOM = toc\n",
        "    return u_sol\n",
        "  def solve_ROM(self):\n",
        "    # Solve the problem for a given parameter\n",
        "    tic = time.time()\n",
        "    self.u_RB_coeff = np.linalg.solve(LHS_RB[0]+self.mu[0]*LHS_RB[1],self.mu[1]*RHS_RB[0])\n",
        "    toc = time.time()-tic\n",
        "    self.computational_time_ROM = toc\n",
        "    return self.u_RB_coeff\n",
        "  def reconstruct_ROM(self):\n",
        "    self.u_RB.vector()[:] = self.u_RB_coeff@self.VRB\n",
        "    return self.u_RB\n",
        "  def compute_error(self):\n",
        "    return assemble(inner(self.u_RB-self.u_sol,self.u_RB-self.u_sol)*dx)/assemble(inner(self.u_sol,self.u_sol)*dx)\n",
        "\n",
        "\n",
        "# Test the class\n",
        "poisson = Poisson(V,VRB,LHS,RHS,LHS_RB,RHS_RB)\n",
        "\n",
        "mu = np.array([0.121251, -0.35412])\n",
        "poisson.set_mu(mu)\n",
        "\n",
        "poisson.solve_FOM()\n",
        "plt.figure()\n",
        "pp=plot(poisson.u_sol)\n",
        "plt.colorbar(pp)\n",
        "plt.title(\"FOM\")\n",
        "\n",
        "\n",
        "poisson.solve_ROM()\n",
        "poisson.reconstruct_ROM()\n",
        "plt.figure()\n",
        "pp=plot(poisson.u_RB)\n",
        "plt.colorbar(pp)\n",
        "plt.title(\"ROM\")\n",
        "\n",
        "plt.figure()\n",
        "pp=plot(poisson.u_sol-poisson.u_RB)\n",
        "plt.colorbar(pp)\n",
        "plt.title(\"Error\")\n",
        "\n",
        "print(\"Comp time FOM\", poisson.computational_time_FOM)\n",
        "print(\"Comp time ROM\", poisson.computational_time_ROM)\n",
        "\n"
      ]
    },
    {
      "cell_type": "markdown",
      "metadata": {
        "id": "M5xZPw7PHOIb"
      },
      "source": [
        "## 7. Test on a large test set"
      ]
    },
    {
      "cell_type": "code",
      "execution_count": null,
      "metadata": {
        "id": "1HH-zlJF-vAF"
      },
      "outputs": [],
      "source": [
        "N_test = 500\n",
        "test_set = np.random.rand(N_test,2)*(mu_max-mu_min)+mu_min\n",
        "\n",
        "errors = np.zeros(N_test)\n",
        "speed_up = np.zeros(N_test)\n",
        "\n",
        "for i, mu in enumerate(test_set):\n",
        "  poisson.set_mu(mu)\n",
        "  poisson.solve_FOM()\n",
        "  poisson.solve_ROM()\n",
        "  poisson.reconstruct_ROM()\n",
        "  poisson.compute_error()\n",
        "  errors[i] = poisson.compute_error()\n",
        "  speed_up[i] = poisson.computational_time_FOM/poisson.computational_time_ROM\n",
        "  print(\"Solved for imu = %d and mu = (%1.3f,%1.3f), err = %1.3e, speedup = %1.3f\"%(i,mu[0],mu[1],errors[i], speed_up[i]))\n",
        "\n",
        "\n",
        "print(\"Mean error \", np.mean(errors))\n",
        "print(\"Mean speed up \", np.mean(speed_up))"
      ]
    },
    {
      "cell_type": "markdown",
      "metadata": {
        "id": "cw96ijXmNLSB"
      },
      "source": [
        "## Exercises\n",
        "1. Plot the average error as a function of the number of basis functions in the reduced space ($N_{RB}$). Here, the FEM expensive solutions can be computed only once, while the reduced solutions will be computed multiple times for different number of reduced basis functions for all parameters in the test set. Change the Poisson class so that it can set a different reduced basis passing only the number of basis functions.\n",
        "2. Add more parameters to the problem (more subdomains, more boundary conditions)\n",
        "3. Try with nonhomogeneous Dirichlet BC (we need a lifting function)\n",
        "4. Try more complex geometries"
      ]
    }
  ],
  "metadata": {
    "colab": {
      "provenance": []
    },
    "kernelspec": {
      "display_name": "fenics-2018",
      "language": "python",
      "name": "python3"
    },
    "language_info": {
      "codemirror_mode": {
        "name": "ipython",
        "version": 3
      },
      "file_extension": ".py",
      "mimetype": "text/x-python",
      "name": "python",
      "nbconvert_exporter": "python",
      "pygments_lexer": "ipython3",
      "version": "3.7.12"
    }
  },
  "nbformat": 4,
  "nbformat_minor": 0
}